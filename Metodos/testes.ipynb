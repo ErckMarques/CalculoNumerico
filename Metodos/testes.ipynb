{
 "cells": [
  {
   "cell_type": "markdown",
   "metadata": {},
   "source": [
    "### Teste do método de impressão"
   ]
  },
  {
   "cell_type": "code",
   "execution_count": 1,
   "metadata": {},
   "outputs": [],
   "source": [
    "import eliminacao_gauss"
   ]
  },
  {
   "cell_type": "code",
   "execution_count": 7,
   "metadata": {},
   "outputs": [
    {
     "ename": "TypeError",
     "evalue": "object of type 'int' has no len()",
     "output_type": "error",
     "traceback": [
      "\u001b[1;31m---------------------------------------------------------------------------\u001b[0m",
      "\u001b[1;31mTypeError\u001b[0m                                 Traceback (most recent call last)",
      "Cell \u001b[1;32mIn[7], line 6\u001b[0m\n\u001b[0;32m      2\u001b[0m termos_independentes \u001b[39m=\u001b[39m [\u001b[39m4\u001b[39m,\u001b[39m1\u001b[39m,\u001b[39m5\u001b[39m]\n\u001b[0;32m      5\u001b[0m a,b \u001b[39m=\u001b[39m eliminacao_gauss\u001b[39m.\u001b[39meliminacao_gauss(matriz, termos_independentes)\n\u001b[1;32m----> 6\u001b[0m eliminacao_gauss\u001b[39m.\u001b[39;49mimprime(b)\n",
      "File \u001b[1;32mg:\\Meu Drive\\Livros e Materiais Didáticos UFPE\\Cálculo Numérico\\Metodos\\eliminacao_gauss.py:70\u001b[0m, in \u001b[0;36mimprime\u001b[1;34m(matriz)\u001b[0m\n\u001b[0;32m     69\u001b[0m \u001b[39mdef\u001b[39;00m \u001b[39mimprime\u001b[39m(matriz):\n\u001b[1;32m---> 70\u001b[0m     linhas, colunas \u001b[39m=\u001b[39m \u001b[39mlen\u001b[39m(matriz), \u001b[39mlen\u001b[39;49m(matriz[\u001b[39m0\u001b[39;49m])\n\u001b[0;32m     72\u001b[0m     \u001b[39mfor\u001b[39;00m i \u001b[39min\u001b[39;00m \u001b[39mrange\u001b[39m(linhas):\n\u001b[0;32m     73\u001b[0m         \u001b[39mprint\u001b[39m(\u001b[39m\"\u001b[39m\u001b[39m|\u001b[39m\u001b[39m\"\u001b[39m, end\u001b[39m=\u001b[39m\u001b[39m\"\u001b[39m\u001b[39m \u001b[39m\u001b[39m\"\u001b[39m)\n",
      "\u001b[1;31mTypeError\u001b[0m: object of type 'int' has no len()"
     ]
    }
   ],
   "source": [
    "matriz = [[1,-2,4], [4,6,0],[8,6,8]]\n",
    "termos_independentes = [4,1,5]\n",
    "\n",
    "\n",
    "a,b = eliminacao_gauss.eliminacao_gauss(matriz, termos_independentes)\n",
    "eliminacao_gauss.imprime(b)"
   ]
  },
  {
   "cell_type": "code",
   "execution_count": 6,
   "metadata": {},
   "outputs": [
    {
     "data": {
      "text/plain": [
       "2"
      ]
     },
     "execution_count": 6,
     "metadata": {},
     "output_type": "execute_result"
    }
   ],
   "source": [
    "len(matriz[0])"
   ]
  },
  {
   "cell_type": "markdown",
   "metadata": {},
   "source": [
    "### Outros Testes"
   ]
  },
  {
   "cell_type": "code",
   "execution_count": 1,
   "metadata": {},
   "outputs": [
    {
     "name": "stdout",
     "output_type": "stream",
     "text": [
      "3\n",
      "[5, 8, 10]\n",
      "[25, -30, 18]\n"
     ]
    }
   ],
   "source": [
    "a = [[1,2,3],[5,8,10],[25,-30,18]]\n",
    "print(len(a[0]))\n",
    "print(a[1])\n",
    "print(a[2])"
   ]
  },
  {
   "cell_type": "code",
   "execution_count": 7,
   "metadata": {},
   "outputs": [
    {
     "name": "stdout",
     "output_type": "stream",
     "text": [
      "[[25, -30, 18], [5, 8, 10], [1, 2, 3]]\n"
     ]
    }
   ],
   "source": [
    "a.sort(reverse=True)\n",
    "print(a)"
   ]
  },
  {
   "cell_type": "code",
   "execution_count": 6,
   "metadata": {},
   "outputs": [
    {
     "name": "stdout",
     "output_type": "stream",
     "text": [
      "Help on method_descriptor:\n",
      "\n",
      "sort(self, /, *, key=None, reverse=False)\n",
      "    Sort the list in ascending order and return None.\n",
      "    \n",
      "    The sort is in-place (i.e. the list itself is modified) and stable (i.e. the\n",
      "    order of two equal elements is maintained).\n",
      "    \n",
      "    If a key function is given, apply it once to each list item and sort them,\n",
      "    ascending or descending, according to their function values.\n",
      "    \n",
      "    The reverse flag can be set to sort in descending order.\n",
      "\n"
     ]
    }
   ],
   "source": [
    "help(list.sort)"
   ]
  },
  {
   "cell_type": "code",
   "execution_count": null,
   "metadata": {},
   "outputs": [],
   "source": []
  }
 ],
 "metadata": {
  "kernelspec": {
   "display_name": "venv",
   "language": "python",
   "name": "python3"
  },
  "language_info": {
   "codemirror_mode": {
    "name": "ipython",
    "version": 3
   },
   "file_extension": ".py",
   "mimetype": "text/x-python",
   "name": "python",
   "nbconvert_exporter": "python",
   "pygments_lexer": "ipython3",
   "version": "3.9.13"
  },
  "orig_nbformat": 4
 },
 "nbformat": 4,
 "nbformat_minor": 2
}
